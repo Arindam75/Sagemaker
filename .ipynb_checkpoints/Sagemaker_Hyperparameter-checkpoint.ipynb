{
 "cells": [
  {
   "cell_type": "code",
   "execution_count": 1,
   "id": "9b707dee",
   "metadata": {},
   "outputs": [],
   "source": [
    "from imblearn.over_sampling import SMOTE\n",
    "import boto3\n",
    "import sagemaker\n",
    "from sagemaker.debugger import Rule, rule_configs\n",
    "from sagemaker.tuner import(\n",
    "    IntegerParameter,\n",
    "    ContinuousParameter,\n",
    "    HyperparameterTuner,\n",
    ")\n",
    "from sagemaker.inputs import TrainingInput\n",
    "from sagemaker import get_execution_role\n",
    "import pandas as pd"
   ]
  },
  {
   "cell_type": "code",
   "execution_count": 2,
   "id": "599911f7",
   "metadata": {},
   "outputs": [
    {
     "name": "stdout",
     "output_type": "stream",
     "text": [
      "Success - the MySageMakerInstance is in the ap-south-1\n",
      "arn:aws:iam::570517415597:role/service-role/AmazonSageMaker-ExecutionRole-20210106T114090\n"
     ]
    }
   ],
   "source": [
    "role = get_execution_role()\n",
    "my_region = boto3.session.Session().region_name\n",
    "print(\"Success - the MySageMakerInstance is in the \" + my_region )\n",
    "print(role)"
   ]
  },
  {
   "cell_type": "code",
   "execution_count": 3,
   "id": "2660a3ff",
   "metadata": {},
   "outputs": [
    {
     "name": "stdout",
     "output_type": "stream",
     "text": [
      "991648021394.dkr.ecr.ap-south-1.amazonaws.com/xgboost:latest\n"
     ]
    }
   ],
   "source": [
    "sess = sagemaker.Session()\n",
    "container = sagemaker.image_uris.retrieve(\"xgboost\", my_region, \"latest\")\n",
    "print(container)"
   ]
  },
  {
   "cell_type": "code",
   "execution_count": 4,
   "id": "511e3ef9",
   "metadata": {},
   "outputs": [],
   "source": [
    "#Replace bucket name with your bucket\n",
    "my_bkt='mylaundrybucket'\n",
    "rules=[Rule.sagemaker(rule_configs.create_xgboost_report())]\n",
    "xgb = sagemaker.estimator.Estimator(\n",
    "    container,\n",
    "    role,\n",
    "    instance_count=1,\n",
    "    instance_type=\"ml.m4.xlarge\",\n",
    "    output_path='s3://{}/models'.format(my_bkt),\n",
    "    sagemaker_session=sess,\n",
    ")\n",
    "xgb.set_hyperparameters(\n",
    "    eval_metric=\"auc\",\n",
    "    objective=\"binary:logistic\",\n",
    "    num_round=100,\n",
    "    rate_drop=0.3,\n",
    "    tweedie_variance_power=1.4,\n",
    "    rules=rules\n",
    ")"
   ]
  },
  {
   "cell_type": "code",
   "execution_count": 5,
   "id": "01e1b850",
   "metadata": {},
   "outputs": [],
   "source": [
    "s3_input_train = sagemaker.inputs.TrainingInput(s3_data='s3://{}/sage_train.csv'.format(my_bkt), content_type='csv')\n",
    "s3_input_validation = sagemaker.inputs.TrainingInput(s3_data='s3://{}/sage_val.csv'.format(my_bkt), content_type='csv')"
   ]
  },
  {
   "cell_type": "code",
   "execution_count": 7,
   "id": "b322af3d",
   "metadata": {},
   "outputs": [],
   "source": [
    "hyperparameter_ranges = {\n",
    "    \"eta\": ContinuousParameter(0, 1),\n",
    "    \"min_child_weight\": ContinuousParameter(1, 10),\n",
    "    \"alpha\": ContinuousParameter(0, 2),\n",
    "    \"max_depth\": IntegerParameter(4, 10),\n",
    "}\n",
    "objective_metric_name = \"validation:auc\"\n",
    "tuner = HyperparameterTuner(xgb, objective_metric_name, hyperparameter_ranges, max_jobs=6, max_parallel_jobs=3)"
   ]
  },
  {
   "cell_type": "code",
   "execution_count": 8,
   "id": "03ee490c",
   "metadata": {},
   "outputs": [
    {
     "name": "stdout",
     "output_type": "stream",
     "text": [
      "...............................................................................................................!\n"
     ]
    }
   ],
   "source": [
    "tuner.fit({\"train\": s3_input_train, \"validation\": s3_input_validation}, include_cls_metadata=False)"
   ]
  },
  {
   "cell_type": "code",
   "execution_count": 9,
   "id": "8a193e0b",
   "metadata": {},
   "outputs": [
    {
     "name": "stdout",
     "output_type": "stream",
     "text": [
      "Best model found so far:\n",
      "{'CreationTime': datetime.datetime(2022, 7, 2, 6, 2, 44, tzinfo=tzlocal()),\n",
      " 'FinalHyperParameterTuningJobObjectiveMetric': {'MetricName': 'validation:auc',\n",
      "                                                 'Value': 0.9948490262031555},\n",
      " 'ObjectiveStatus': 'Succeeded',\n",
      " 'TrainingEndTime': datetime.datetime(2022, 7, 2, 6, 6, 48, tzinfo=tzlocal()),\n",
      " 'TrainingJobArn': 'arn:aws:sagemaker:ap-south-1:570517415597:training-job/xgboost-220702-0557-006-b02e145d',\n",
      " 'TrainingJobName': 'xgboost-220702-0557-006-b02e145d',\n",
      " 'TrainingJobStatus': 'Completed',\n",
      " 'TrainingStartTime': datetime.datetime(2022, 7, 2, 6, 4, 25, tzinfo=tzlocal()),\n",
      " 'TunedHyperParameters': {'alpha': '0.36843552580362204',\n",
      "                          'eta': '0.3283748406816732',\n",
      "                          'max_depth': '8',\n",
      "                          'min_child_weight': '6.631353393968709'}}\n"
     ]
    }
   ],
   "source": [
    "from pprint import pprint\n",
    "tuning_job_result=boto3.client(\"sagemaker\").describe_hyper_parameter_tuning_job(\n",
    "    HyperParameterTuningJobName=tuner.latest_tuning_job.job_name\n",
    ")\n",
    "if tuning_job_result.get(\"BestTrainingJob\", None):\n",
    "    print(\"Best model found so far:\")\n",
    "    pprint(tuning_job_result[\"BestTrainingJob\"])\n",
    "else:\n",
    "    print(\"No training jobs have reported results yet.\")"
   ]
  },
  {
   "cell_type": "code",
   "execution_count": 13,
   "id": "06a79026",
   "metadata": {},
   "outputs": [],
   "source": [
    "my_best_job=tuning_job_result[\"BestTrainingJob\"][\"TrainingJobName\"]"
   ]
  },
  {
   "cell_type": "code",
   "execution_count": 14,
   "id": "0bd04fa8",
   "metadata": {},
   "outputs": [
    {
     "name": "stdout",
     "output_type": "stream",
     "text": [
      "models/xgboost-220702-0557-001-7e933b22/output/model.tar.gz\n",
      "models/xgboost-220702-0557-002-a50caa48/output/model.tar.gz\n",
      "models/xgboost-220702-0557-003-8e680304/output/model.tar.gz\n",
      "models/xgboost-220702-0557-004-d59193ca/output/model.tar.gz\n",
      "models/xgboost-220702-0557-005-47391ac0/output/model.tar.gz\n",
      "models/xgboost-220702-0557-006-b02e145d/output/model.tar.gz\n"
     ]
    }
   ],
   "source": [
    "s3 = boto3.resource('s3')\n",
    "bucket = s3.Bucket(my_bkt)\n",
    "for obj in bucket.objects.all():\n",
    "    if obj.key.find('model.tar')>-1:\n",
    "        print(obj.key)\n",
    "        KEY=obj.key"
   ]
  },
  {
   "cell_type": "code",
   "execution_count": 15,
   "id": "18fe9aa0",
   "metadata": {},
   "outputs": [],
   "source": [
    "my_best_job=tuning_job_result[\"BestTrainingJob\"][\"TrainingJobName\"]\n",
    "model = sagemaker.model.Model(\n",
    "    image_uri=container,\n",
    "    model_data='s3://{}/models/{}/output/model.tar.gz'.format(my_bkt,my_best_job),\n",
    "    role=role)\n",
    "\n",
    "transformer = model.transformer(\n",
    "    instance_count=1, instance_type=\"ml.m5.xlarge\", \n",
    "    assemble_with=\"Line\", accept=\"text/csv\",\n",
    "    output_path='s3://{}/models'.format(my_bkt)\n",
    ")"
   ]
  },
  {
   "cell_type": "code",
   "execution_count": 16,
   "id": "b871a189",
   "metadata": {},
   "outputs": [
    {
     "name": "stdout",
     "output_type": "stream",
     "text": [
      "........................\n",
      "\u001b[34mArguments: serve\u001b[0m\n",
      "\u001b[35mArguments: serve\u001b[0m\n",
      "\u001b[34m[2022-07-02 06:18:27 +0000] [1] [INFO] Starting gunicorn 19.9.0\u001b[0m\n",
      "\u001b[34m[2022-07-02 06:18:27 +0000] [1] [INFO] Listening at: http://0.0.0.0:8080 (1)\u001b[0m\n",
      "\u001b[34m[2022-07-02 06:18:27 +0000] [1] [INFO] Using worker: gevent\u001b[0m\n",
      "\u001b[34m[2022-07-02 06:18:27 +0000] [21] [INFO] Booting worker with pid: 21\u001b[0m\n",
      "\u001b[34m[2022-07-02 06:18:27 +0000] [22] [INFO] Booting worker with pid: 22\u001b[0m\n",
      "\u001b[35m[2022-07-02 06:18:27 +0000] [1] [INFO] Starting gunicorn 19.9.0\u001b[0m\n",
      "\u001b[35m[2022-07-02 06:18:27 +0000] [1] [INFO] Listening at: http://0.0.0.0:8080 (1)\u001b[0m\n",
      "\u001b[35m[2022-07-02 06:18:27 +0000] [1] [INFO] Using worker: gevent\u001b[0m\n",
      "\u001b[35m[2022-07-02 06:18:27 +0000] [21] [INFO] Booting worker with pid: 21\u001b[0m\n",
      "\u001b[35m[2022-07-02 06:18:27 +0000] [22] [INFO] Booting worker with pid: 22\u001b[0m\n",
      "\u001b[34m[2022-07-02 06:18:27 +0000] [23] [INFO] Booting worker with pid: 23\u001b[0m\n",
      "\u001b[34m/opt/amazon/lib/python3.7/site-packages/gunicorn/workers/ggevent.py:65: MonkeyPatchWarning: Monkey-patching ssl after ssl has already been imported may lead to errors, including RecursionError on Python 3.6. It may also silently lead to incorrect behaviour on Python 3.7. Please monkey-patch earlier. See https://github.com/gevent/gevent/issues/1016. Modules that had direct imports (NOT patched): ['urllib3.util (/opt/amazon/lib/python3.7/site-packages/urllib3/util/__init__.py)', 'urllib3.util.ssl_ (/opt/amazon/lib/python3.7/site-packages/urllib3/util/ssl_.py)']. \n",
      "  monkey.patch_all(subprocess=True)\u001b[0m\n",
      "\u001b[34m/opt/amazon/lib/python3.7/site-packages/gunicorn/workers/ggevent.py:65: MonkeyPatchWarning: Monkey-patching ssl after ssl has already been imported may lead to errors, including RecursionError on Python 3.6. It may also silently lead to incorrect behaviour on Python 3.7. Please monkey-patch earlier. See https://github.com/gevent/gevent/issues/1016. Modules that had direct imports (NOT patched): ['urllib3.util (/opt/amazon/lib/python3.7/site-packages/urllib3/util/__init__.py)', 'urllib3.util.ssl_ (/opt/amazon/lib/python3.7/site-packages/urllib3/util/ssl_.py)']. \n",
      "  monkey.patch_all(subprocess=True)\u001b[0m\n",
      "\u001b[34m[2022-07-02:06:18:27:INFO] Model loaded successfully for worker : 21\u001b[0m\n",
      "\u001b[34m[2022-07-02:06:18:27:INFO] Model loaded successfully for worker : 22\u001b[0m\n",
      "\u001b[34m/opt/amazon/lib/python3.7/site-packages/gunicorn/workers/ggevent.py:65: MonkeyPatchWarning: Monkey-patching ssl after ssl has already been imported may lead to errors, including RecursionError on Python 3.6. It may also silently lead to incorrect behaviour on Python 3.7. Please monkey-patch earlier. See https://github.com/gevent/gevent/issues/1016. Modules that had direct imports (NOT patched): ['urllib3.util (/opt/amazon/lib/python3.7/site-packages/urllib3/util/__init__.py)', 'urllib3.util.ssl_ (/opt/amazon/lib/python3.7/site-packages/urllib3/util/ssl_.py)']. \n",
      "  monkey.patch_all(subprocess=True)\u001b[0m\n",
      "\u001b[34m[2022-07-02:06:18:27:INFO] Model loaded successfully for worker : 23\u001b[0m\n",
      "\u001b[34m[2022-07-02 06:18:27 +0000] [24] [INFO] Booting worker with pid: 24\u001b[0m\n",
      "\u001b[34m/opt/amazon/lib/python3.7/site-packages/gunicorn/workers/ggevent.py:65: MonkeyPatchWarning: Monkey-patching ssl after ssl has already been imported may lead to errors, including RecursionError on Python 3.6. It may also silently lead to incorrect behaviour on Python 3.7. Please monkey-patch earlier. See https://github.com/gevent/gevent/issues/1016. Modules that had direct imports (NOT patched): ['urllib3.util (/opt/amazon/lib/python3.7/site-packages/urllib3/util/__init__.py)', 'urllib3.util.ssl_ (/opt/amazon/lib/python3.7/site-packages/urllib3/util/ssl_.py)']. \n",
      "  monkey.patch_all(subprocess=True)\u001b[0m\n",
      "\u001b[34m[2022-07-02:06:18:28:INFO] Model loaded successfully for worker : 24\u001b[0m\n",
      "\u001b[35m[2022-07-02 06:18:27 +0000] [23] [INFO] Booting worker with pid: 23\u001b[0m\n",
      "\u001b[35m/opt/amazon/lib/python3.7/site-packages/gunicorn/workers/ggevent.py:65: MonkeyPatchWarning: Monkey-patching ssl after ssl has already been imported may lead to errors, including RecursionError on Python 3.6. It may also silently lead to incorrect behaviour on Python 3.7. Please monkey-patch earlier. See https://github.com/gevent/gevent/issues/1016. Modules that had direct imports (NOT patched): ['urllib3.util (/opt/amazon/lib/python3.7/site-packages/urllib3/util/__init__.py)', 'urllib3.util.ssl_ (/opt/amazon/lib/python3.7/site-packages/urllib3/util/ssl_.py)']. \n",
      "  monkey.patch_all(subprocess=True)\u001b[0m\n",
      "\u001b[35m/opt/amazon/lib/python3.7/site-packages/gunicorn/workers/ggevent.py:65: MonkeyPatchWarning: Monkey-patching ssl after ssl has already been imported may lead to errors, including RecursionError on Python 3.6. It may also silently lead to incorrect behaviour on Python 3.7. Please monkey-patch earlier. See https://github.com/gevent/gevent/issues/1016. Modules that had direct imports (NOT patched): ['urllib3.util (/opt/amazon/lib/python3.7/site-packages/urllib3/util/__init__.py)', 'urllib3.util.ssl_ (/opt/amazon/lib/python3.7/site-packages/urllib3/util/ssl_.py)']. \n",
      "  monkey.patch_all(subprocess=True)\u001b[0m\n",
      "\u001b[35m[2022-07-02:06:18:27:INFO] Model loaded successfully for worker : 21\u001b[0m\n",
      "\u001b[35m[2022-07-02:06:18:27:INFO] Model loaded successfully for worker : 22\u001b[0m\n",
      "\u001b[35m/opt/amazon/lib/python3.7/site-packages/gunicorn/workers/ggevent.py:65: MonkeyPatchWarning: Monkey-patching ssl after ssl has already been imported may lead to errors, including RecursionError on Python 3.6. It may also silently lead to incorrect behaviour on Python 3.7. Please monkey-patch earlier. See https://github.com/gevent/gevent/issues/1016. Modules that had direct imports (NOT patched): ['urllib3.util (/opt/amazon/lib/python3.7/site-packages/urllib3/util/__init__.py)', 'urllib3.util.ssl_ (/opt/amazon/lib/python3.7/site-packages/urllib3/util/ssl_.py)']. \n",
      "  monkey.patch_all(subprocess=True)\u001b[0m\n",
      "\u001b[35m[2022-07-02:06:18:27:INFO] Model loaded successfully for worker : 23\u001b[0m\n",
      "\u001b[35m[2022-07-02 06:18:27 +0000] [24] [INFO] Booting worker with pid: 24\u001b[0m\n",
      "\u001b[35m/opt/amazon/lib/python3.7/site-packages/gunicorn/workers/ggevent.py:65: MonkeyPatchWarning: Monkey-patching ssl after ssl has already been imported may lead to errors, including RecursionError on Python 3.6. It may also silently lead to incorrect behaviour on Python 3.7. Please monkey-patch earlier. See https://github.com/gevent/gevent/issues/1016. Modules that had direct imports (NOT patched): ['urllib3.util (/opt/amazon/lib/python3.7/site-packages/urllib3/util/__init__.py)', 'urllib3.util.ssl_ (/opt/amazon/lib/python3.7/site-packages/urllib3/util/ssl_.py)']. \n",
      "  monkey.patch_all(subprocess=True)\u001b[0m\n",
      "\u001b[35m[2022-07-02:06:18:28:INFO] Model loaded successfully for worker : 24\u001b[0m\n",
      "\u001b[34m[2022-07-02:06:18:31:INFO] Sniff delimiter as ','\u001b[0m\n",
      "\u001b[34m[2022-07-02:06:18:31:INFO] Determined delimiter of CSV input is ','\u001b[0m\n",
      "\u001b[35m[2022-07-02:06:18:31:INFO] Sniff delimiter as ','\u001b[0m\n",
      "\u001b[35m[2022-07-02:06:18:31:INFO] Determined delimiter of CSV input is ','\u001b[0m\n",
      "\u001b[32m2022-07-02T06:18:30.963:[sagemaker logs]: MaxConcurrentTransforms=4, MaxPayloadInMB=6, BatchStrategy=MULTI_RECORD\u001b[0m\n"
     ]
    }
   ],
   "source": [
    "test_data_path='s3://{}/sage_test.csv'.format(my_bkt)\n",
    "transformer.transform(test_data_path, content_type=\"text/csv\") "
   ]
  },
  {
   "cell_type": "code",
   "execution_count": 17,
   "id": "b724d49b",
   "metadata": {},
   "outputs": [
    {
     "name": "stdout",
     "output_type": "stream",
     "text": [
      "download: s3://mylaundrybucket/models/sage_test.csv.out to ./output.csv\n"
     ]
    },
    {
     "data": {
      "text/html": [
       "<div>\n",
       "<style scoped>\n",
       "    .dataframe tbody tr th:only-of-type {\n",
       "        vertical-align: middle;\n",
       "    }\n",
       "\n",
       "    .dataframe tbody tr th {\n",
       "        vertical-align: top;\n",
       "    }\n",
       "\n",
       "    .dataframe thead th {\n",
       "        text-align: right;\n",
       "    }\n",
       "</style>\n",
       "<table border=\"1\" class=\"dataframe\">\n",
       "  <thead>\n",
       "    <tr style=\"text-align: right;\">\n",
       "      <th></th>\n",
       "      <th>0</th>\n",
       "    </tr>\n",
       "  </thead>\n",
       "  <tbody>\n",
       "    <tr>\n",
       "      <th>0</th>\n",
       "      <td>0.004634</td>\n",
       "    </tr>\n",
       "    <tr>\n",
       "      <th>1</th>\n",
       "      <td>0.999846</td>\n",
       "    </tr>\n",
       "    <tr>\n",
       "      <th>2</th>\n",
       "      <td>0.000608</td>\n",
       "    </tr>\n",
       "    <tr>\n",
       "      <th>3</th>\n",
       "      <td>0.969860</td>\n",
       "    </tr>\n",
       "    <tr>\n",
       "      <th>4</th>\n",
       "      <td>0.000032</td>\n",
       "    </tr>\n",
       "    <tr>\n",
       "      <th>...</th>\n",
       "      <td>...</td>\n",
       "    </tr>\n",
       "    <tr>\n",
       "      <th>8860</th>\n",
       "      <td>0.030168</td>\n",
       "    </tr>\n",
       "    <tr>\n",
       "      <th>8861</th>\n",
       "      <td>0.994613</td>\n",
       "    </tr>\n",
       "    <tr>\n",
       "      <th>8862</th>\n",
       "      <td>0.999929</td>\n",
       "    </tr>\n",
       "    <tr>\n",
       "      <th>8863</th>\n",
       "      <td>0.003643</td>\n",
       "    </tr>\n",
       "    <tr>\n",
       "      <th>8864</th>\n",
       "      <td>0.028402</td>\n",
       "    </tr>\n",
       "  </tbody>\n",
       "</table>\n",
       "<p>8865 rows × 1 columns</p>\n",
       "</div>"
      ],
      "text/plain": [
       "             0\n",
       "0     0.004634\n",
       "1     0.999846\n",
       "2     0.000608\n",
       "3     0.969860\n",
       "4     0.000032\n",
       "...        ...\n",
       "8860  0.030168\n",
       "8861  0.994613\n",
       "8862  0.999929\n",
       "8863  0.003643\n",
       "8864  0.028402\n",
       "\n",
       "[8865 rows x 1 columns]"
      ]
     },
     "execution_count": 17,
     "metadata": {},
     "output_type": "execute_result"
    }
   ],
   "source": [
    "!aws s3 cp s3://mylaundrybucket/models/sage_test.csv.out output.csv\n",
    "pred_proba = pd.read_csv('output.csv',header=None)\n",
    "pred_proba"
   ]
  },
  {
   "cell_type": "code",
   "execution_count": 22,
   "id": "c14a1f1a",
   "metadata": {},
   "outputs": [],
   "source": [
    "s3.Bucket(my_bkt).download_file('Ground_Truth.csv', 'Ground_Truth.csv')\n",
    "s3.Bucket(my_bkt).download_file('models/sage_test.csv.out', 'sage_test.csv.out')"
   ]
  },
  {
   "cell_type": "code",
   "execution_count": 24,
   "id": "d333fcd2",
   "metadata": {},
   "outputs": [],
   "source": [
    "import matplotlib.pyplot as plt\n",
    "from sklearn import metrics\n",
    "from sklearn.metrics import plot_confusion_matrix,roc_curve,roc_auc_score,auc,confusion_matrix\n",
    "import seaborn as sns\n",
    "\n",
    "#Read in the downloaded files. pred_proba contains the predicted probabilities from our best model.\n",
    "#The test_df comtains the ground truth data, with the first column containing the tru class labels.\n",
    "pred_proba = pd.read_csv('output.csv',header=None)\n",
    "test_df =pd.read_csv('Ground_Truth.csv',header=None)\n",
    "y_test=test_df.iloc[:, 0].values"
   ]
  },
  {
   "cell_type": "code",
   "execution_count": 25,
   "id": "cf3531ed",
   "metadata": {},
   "outputs": [
    {
     "name": "stderr",
     "output_type": "stream",
     "text": [
      "Matplotlib is building the font cache; this may take a moment.\n"
     ]
    }
   ],
   "source": [
    "# Evaluate the metrics for various thresholds\n",
    "fpr, tpr, thresholds = roc_curve(y_test,pred_proba)\n",
    "# compute AUC\n",
    "roc_auc = auc(fpr, tpr) "
   ]
  },
  {
   "cell_type": "code",
   "execution_count": 26,
   "id": "3500ef86",
   "metadata": {},
   "outputs": [
    {
     "name": "stderr",
     "output_type": "stream",
     "text": [
      "/home/ec2-user/anaconda3/envs/python3/lib/python3.8/site-packages/seaborn/_decorators.py:36: FutureWarning: Pass the following variables as keyword args: x, y. From version 0.12, the only valid positional argument will be `data`, and passing other arguments without an explicit keyword will result in an error or misinterpretation.\n",
      "  warnings.warn(\n"
     ]
    },
    {
     "data": {
      "image/png": "[encoded data removed]",
      "text/plain": [
       "<Figure size 648x432 with 1 Axes>"
      ]
     },
     "metadata": {
      "needs_background": "light"
     },
     "output_type": "display_data"
    }
   ],
   "source": [
    "# Plotting the Threshold on the ROC Curve\n",
    "fig = plt.figure(figsize=(9,6))\n",
    "\n",
    "ax = fig.add_subplot(111)\n",
    "ax.set_title('Choosing the Correct Threshold with Hold Out ROC-AUC {:0.3f}'.format(roc_auc), fontsize=14)\n",
    "ax.set_ylabel('TPR and Threshold')\n",
    "ax.set_xlabel('FPR')\n",
    " \n",
    "# Plot the AUC Curve\n",
    "ax=sns.lineplot(fpr[1::], thresholds[1::], markeredgecolor='r',linestyle='dashed', color='r',label='Thresholds')\n",
    "# Plot the Thresholds Curve\n",
    "ax=sns.lineplot(x=fpr[1::], y=tpr[1::],linewidth= 3,color='b',label='FPR vs TPR')"
   ]
  }
 ],
 "metadata": {
  "kernelspec": {
   "display_name": "Python 3 (ipykernel)",
   "language": "python",
   "name": "python3"
  },
  "language_info": {
   "codemirror_mode": {
    "name": "ipython",
    "version": 3
   },
   "file_extension": ".py",
   "mimetype": "text/x-python",
   "name": "python",
   "nbconvert_exporter": "python",
   "pygments_lexer": "ipython3",
   "version": "3.9.7"
  }
 },
 "nbformat": 4,
 "nbformat_minor": 5
}
